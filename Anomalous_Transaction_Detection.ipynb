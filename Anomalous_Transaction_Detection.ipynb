{
  "nbformat": 4,
  "nbformat_minor": 0,
  "metadata": {
    "colab": {
      "provenance": []
    },
    "kernelspec": {
      "name": "python3",
      "display_name": "Python 3"
    },
    "language_info": {
      "name": "python"
    }
  },
  "cells": [
    {
      "cell_type": "code",
      "execution_count": null,
      "metadata": {
        "colab": {
          "base_uri": "https://localhost:8080/"
        },
        "id": "SjAHZzRohrJH",
        "outputId": "a548e974-b429-4ba2-e2a7-195fca3c4b63"
      },
      "outputs": [
        {
          "output_type": "stream",
          "name": "stdout",
          "text": [
            "Real-Time Anomaly Detection System\n"
          ]
        }
      ],
      "source": [
        "import pandas as pd\n",
        "import numpy as np\n",
        "from sklearn.ensemble import IsolationForest\n",
        "import collections\n",
        "\n",
        "\n",
        "user_data = collections.defaultdict(lambda: {\"transactions\": [], \"model\": None})\n",
        "\n",
        "def add_transaction(user_id, amount):\n",
        "    \"\"\"\n",
        "    Add a transaction for a user and check for anomalies.\n",
        "    \"\"\"\n",
        "    user = user_data[user_id]\n",
        "    user[\"transactions\"].append(amount)\n",
        "\n",
        "    if len(user[\"transactions\"]) <= 20:\n",
        "        print(f\"Learning: Recorded {len(user['transactions'])} transactions for user {user_id}.\")\n",
        "        if len(user[\"transactions\"]) == 20:\n",
        "            train_user_model(user_id)\n",
        "        return None\n",
        "\n",
        "\n",
        "    is_anomalous = predict_transaction(user_id, amount)\n",
        "    return is_anomalous\n",
        "\n",
        "def train_user_model(user_id):\n",
        "    \"\"\"\n",
        "    Train the model for a user using the first 20 transactions.\n",
        "    \"\"\"\n",
        "    user = user_data[user_id]\n",
        "    transactions = np.array(user[\"transactions\"]).reshape(-1, 1)\n",
        "\n",
        "    model = IsolationForest(n_estimators=50, contamination=0.1, random_state=42)\n",
        "    model.fit(transactions)\n",
        "\n",
        "    user[\"model\"] = model\n",
        "    print(f\"Model trained for user {user_id}.\")\n",
        "\n",
        "def predict_transaction(user_id, amount):\n",
        "    \"\"\"\n",
        "    Predict whether a transaction is anomalous or not for a given user.\n",
        "    \"\"\"\n",
        "    user = user_data[user_id]\n",
        "    model = user[\"model\"]\n",
        "    if model is None:\n",
        "        print(f\"No model available for user {user_id}. Cannot predict anomalies.\")\n",
        "        return None\n",
        "\n",
        "    prediction = model.predict([[amount]])[0]\n",
        "    if prediction == -1:\n",
        "        print(f\"Anomalous transaction detected for user {user_id}: {amount}\")\n",
        "    else:\n",
        "        print(f\"Transaction is normal for user {user_id}: {amount}\")\n",
        "    return prediction == -1\n",
        "\n",
        "6\n",
        "if __name__ == \"__main__\":\n",
        "    print(\"Real-Time Anomaly Detection System\")\n",
        "    while True:\n",
        "        try:\n",
        "            user_id = input(\"Enter user ID (or type 'exit' to quit): \")\n",
        "            if user_id.lower() == \"exit\":\n",
        "                break\n",
        "            amount = float(input(f\"Enter transaction amount for user {user_id}: \"))\n",
        "            result = add_transaction(user_id, amount)\n",
        "            if result is not None:\n",
        "                print(f\"Transaction anomaly status: {'Anomalous' if result else 'Normal'}\")\n",
        "        except ValueError:\n",
        "            print(\"Invalid input. Please try again.\")\n"
      ]
    }
  ]
}